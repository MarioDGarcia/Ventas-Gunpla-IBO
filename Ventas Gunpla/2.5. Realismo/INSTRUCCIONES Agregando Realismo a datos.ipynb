{
 "cells": [
  {
   "cell_type": "markdown",
   "id": "230cef79",
   "metadata": {},
   "source": [
    "### **Añadiendo Realismo a datos**\n",
    "- **Region de venta**"
   ]
  },
  {
   "cell_type": "markdown",
   "id": "343fd54e",
   "metadata": {},
   "source": [
    "Para iniciar con el realismo de datos vamos a modificar a los paises para que tenga un peso dependiendo del codigo del pais para eso usaremos el script **\"Actualizar_Pais.py\"**\n",
    "*(tambien se coloca debajo de este escrito para seguir todo en una lectura)*\n"
   ]
  },
  {
   "cell_type": "code",
   "execution_count": null,
   "id": "3525deb9",
   "metadata": {
    "vscode": {
     "languageId": "plaintext"
    }
   },
   "outputs": [],
   "source": [
    "import pandas as pd\n",
    "\n",
    "# Cargar datos\n",
    "df_limpio = pd.read_csv(\"Ventas_IBO_Gunpla_V2.0.csv\")\n",
    "paises = pd.read_csv(\"Paises con continene.csv\").dropna(subset=[\"id_pais\", \"continente\"])\n",
    "lista = paises[['id_pais', 'continente']].copy()\n",
    "\n",
    "# Distribución de pesos por continente\n",
    "pesos_continente = {\n",
    "    \"Asia\": 0.65,        # Fuerte pero no dominante absoluto\n",
    "    \"América\": 0.25,     # Incluye EE.UU., LatAm\n",
    "    \"Oceanía\": 0.25,     # MISMO nivel que América\n",
    "    \"Europa\": 0.08,\n",
    "    \"África\": 0.01,\n",
    "    \"Caribe\": 0.01\n",
    "}\n",
    "lista['peso'] = lista['continente'].map(pesos_continente)\n",
    "\n",
    "# Reforzar Japón, pero menos extremo\n",
    "lista.loc[lista['id_pais'] == \"JP\", 'peso'] *= 30\n",
    "\n",
    "# Asia Oriental: refuerzo moderado\n",
    "asia_oriental = [\"CN\", \"KR\", \"TW\", \"HK\", \"PH\"]\n",
    "lista.loc[lista['id_pais'].isin(asia_oriental), 'peso'] *= 3\n",
    "\n",
    "# EE.UU. con refuerzo fuerte\n",
    "lista.loc[lista['id_pais'] == \"US\", 'peso'] *= 8\n",
    "\n",
    "# México y Brasil con refuerzo moderado\n",
    "latam = [\"MX\", \"BR\"]\n",
    "lista.loc[lista['id_pais'].isin(latam), 'peso'] *= 2\n",
    "\n",
    "# África y Caribe casi nulos\n",
    "lista.loc[lista['continente'] == \"África\", 'peso'] *= 0.1\n",
    "lista.loc[lista['continente'] == \"Caribe\", 'peso'] *= 0.1\n",
    "\n",
    "# Normalizar pesos\n",
    "lista['peso'] = lista['peso'] / lista['peso'].sum()\n",
    "\n",
    "# Asignar países aleatoriamente con los pesos\n",
    "n = len(df_limpio)\n",
    "df_limpio['id_pais'] = lista.sample(n=n, weights=lista['peso'], replace=True)['id_pais'].tolist()\n",
    "\n",
    "# Guardar\n",
    "df_limpio.to_csv(\"Ventas_IBO_Gunpla_V3.0.csv\", index=False)\n",
    "\n",
    "print(\"🌏 Oceanía igual que América, EE.UU. con peso fuerte, Japón dominante, Asia reforzada, África y Caribe casi nulos.\")\n"
   ]
  },
  {
   "cell_type": "markdown",
   "id": "77ff35d5",
   "metadata": {},
   "source": [
    "- **Actualziar productos**\n",
    "Para esto primero modificaremos el archivo original de nuestros prodcutos para poder regirnos mediante un peso para cada articulo, para eso usaremos el script de **\"Actualizar_Prodcuto poner pesos.py\"**\n",
    "*(colocado debajo)*"
   ]
  },
  {
   "cell_type": "code",
   "execution_count": null,
   "id": "b8ad5ad1",
   "metadata": {
    "vscode": {
     "languageId": "plaintext"
    }
   },
   "outputs": [],
   "source": [
    "import pandas as pd\n",
    "\n",
    "# Cargar datos\n",
    "df_prod = pd.read_csv(\"IBO_Gunplas.csv\")\n",
    "\n",
    "# Asignar peso base = 1\n",
    "df_prod['peso'] = 1.0\n",
    "\n",
    "# Peso máximo: Barbatos Lupus Rex\n",
    "mask_lupusrex = df_prod['nombreProducto'].str.contains(\"Lupus Rex\", case=False)\n",
    "df_prod.loc[mask_lupusrex, 'peso'] = 50\n",
    "\n",
    "# Segundo más alto: Barbatos Lupus (pero no Lupus Rex)\n",
    "mask_lupus = df_prod['nombreProducto'].str.contains(\"Barbatos Lupus\", case=False) & ~mask_lupusrex\n",
    "df_prod.loc[mask_lupus, 'peso'] = 40\n",
    "\n",
    "# Luego: Otros Barbatos (pero no Lupus ni Lupus Rex)\n",
    "mask_barb_otros = df_prod['nombreProducto'].str.contains(\"Barbatos\", case=False) & ~mask_lupus & ~mask_lupusrex\n",
    "df_prod.loc[mask_barb_otros, 'peso'] = 30\n",
    "\n",
    "# Normalizar pesos para que sumen 1\n",
    "df_prod['peso'] /= df_prod['peso'].sum()\n",
    "\n",
    "# Guardar resultado\n",
    "df_prod.to_csv(\"productos_pesados.csv\", index=False)\n",
    "print(\"Pesos ajustados. Barbatos y sus variantes tienen mayor prioridad.\")\n"
   ]
  },
  {
   "cell_type": "markdown",
   "id": "e2c0fe5f",
   "metadata": {},
   "source": [
    "- **Agregando los productos nuevos al script**\n",
    "Una vez hecho el nuevo archivo de productos con pesos (dependiendo de la popularidad del producto) podemos actualizar nuestros datos para que sean mas realistas, para eso usaremos el archivo de **\"Actualizar_producto_a_datos.py\"**\n",
    "*(Una vez mas, colocado debajo)* "
   ]
  },
  {
   "cell_type": "code",
   "execution_count": null,
   "id": "15d21bd0",
   "metadata": {
    "vscode": {
     "languageId": "plaintext"
    }
   },
   "outputs": [],
   "source": [
    "import pandas as pd\n",
    "import numpy as np\n",
    "\n",
    "# Cargar ventas y productos con pesos\n",
    "df_ventas = pd.read_csv(\"Ventas_IBO_Gunpla_V2.0.csv\")\n",
    "df_productos = pd.read_csv(\"productos_pesados.csv\")  # tu archivo con pesos\n",
    "\n",
    "\n",
    "# Extraer IDs y pesos\n",
    "productos = df_productos[\"id_nuevo\"].tolist()\n",
    "pesos = df_productos[\"peso\"].tolist()\n",
    "\n",
    "# Generar nueva columna de productos según los pesos\n",
    "df_ventas[\"id_producto\"] = np.random.choice(\n",
    "    productos,\n",
    "    size=len(df_ventas),\n",
    "    p=pesos\n",
    ")\n",
    "\n",
    "# Guardar resultado\n",
    "df_ventas.to_csv(\"Ventas_IBO_Gunpla_V3.0.csv\", index=False)\n",
    "\n",
    "print(\"✅ Productos en ventas actualizados según popularidad.\")\n"
   ]
  },
  {
   "cell_type": "markdown",
   "id": "c74d9263",
   "metadata": {},
   "source": [
    "## Preparados para el Dashboard\n",
    "\n",
    "Con este paso, ya contamos con nuestros datos enriquecidos con un **toque de realismo**, listos para dar el siguiente salto: la creación de un **Dashboard** que presente la información de forma **visual** e **interactiva**.\n",
    "\n",
    "Para ello utilizaremos la herramienta **Power BI**, aprovechando su capacidad para transformar datos en visualizaciones impactantes y fáciles de interpretar.\n",
    "\n",
    "➡️ Ir a **\"3. Dashboard\"** para continuar.\n",
    "\n"
   ]
  },
  {
   "cell_type": "markdown",
   "id": "d72ebc78",
   "metadata": {},
   "source": []
  }
 ],
 "metadata": {
  "language_info": {
   "name": "python"
  }
 },
 "nbformat": 4,
 "nbformat_minor": 5
}
