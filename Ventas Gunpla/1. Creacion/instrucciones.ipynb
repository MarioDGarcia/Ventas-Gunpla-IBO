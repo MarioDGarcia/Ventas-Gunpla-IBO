{
 "cells": [
  {
   "cell_type": "markdown",
   "id": "d4d9dda1",
   "metadata": {},
   "source": [
    "# **Creacion de Datos**\n",
    "### *Autor: Mario Daniel Ortega Garcia*\n"
   ]
  },
  {
   "cell_type": "markdown",
   "id": "f761c3f1",
   "metadata": {},
   "source": [
    "## Generación de Datos Simulados\n",
    "\n",
    "Para la creación de datos se generó un conjunto de aproximadamente **100,000 registros de ventas** simuladas de model kits de **_Mobile Suit Gundam: Iron-Blooded Orphans_**, abreviado a partir de ahora como **IBO**.\n",
    "\n",
    "Estas ventas ficticias se distribuyen entre los años **2022, 2023 y 2024**, y fueron creadas con un script en **Python** que toma en cuenta:\n",
    "\n",
    "- Una lista de productos (Gunplas de IBO)\n",
    "- Una lista de países con su continente respectivo\n",
    "- Pesos asignados a cada continente para reflejar distribución desigual de ventas\n",
    "- Distribución no uniforme en las unidades vendidas\n",
    "- Fechas aleatorias dentro del rango mencionado\n",
    "\n",
    "---\n",
    "\n",
    "### Script utilizado para la creación de los datos\n"
   ]
  },
  {
   "cell_type": "code",
   "execution_count": null,
   "id": "58259a7e",
   "metadata": {},
   "outputs": [],
   "source": [
    "\n",
    "import pandas as pd\n",
    "import random\n",
    "from datetime import datetime, timedelta\n",
    "\n",
    "# Cargar archivos\n",
    "productos = pd.read_csv(\"IBO_Gunplas.csv\")\n",
    "paises = pd.read_csv(\"Paises con continene.csv\")\n",
    "\n",
    "# Obtener listas\n",
    "lista_productos = productos['id_nuevo'].dropna().unique().tolist()\n",
    "paises = paises.dropna(subset=[\"id_pais\", \"continente\"])\n",
    "lista_paises = paises[['id_pais', 'continente']].copy()\n",
    "\n",
    "# Pesos por continente\n",
    "pesos_continente = {\n",
    "    \"Asia\": 0.4,\n",
    "    \"América\": 0.25,\n",
    "    \"Europa\": 0.2,\n",
    "    \"África\": 0.1,\n",
    "    \"Caribe\": 0.05\n",
    "}\n",
    "lista_paises.loc[:, 'peso'] = lista_paises['continente'].map(pesos_continente)\n",
    "lista_paises = lista_paises.dropna(subset=['peso']).reset_index(drop=True)\n",
    "\n",
    "# Función para generar fechas aleatorias\n",
    "def fecha_aleatoria():\n",
    "    inicio = datetime(2022, 1, 1)\n",
    "    fin = datetime(2024, 12, 31)\n",
    "    return inicio + timedelta(days=random.randint(0, (fin - inicio).days))\n",
    "\n",
    "# Generar ventas simuladas\n",
    "num_ventas = 100_000\n",
    "ventas_simuladas = []\n",
    "\n",
    "for i in range(1, num_ventas + 1):\n",
    "    fecha = fecha_aleatoria().strftime('%Y-%m-%d')\n",
    "    id_producto = random.choice(lista_productos)\n",
    "    pais = lista_paises.sample(weights=lista_paises['peso']).iloc[0]['id_pais']\n",
    "\n",
    "    opciones = list(range(1, 21))\n",
    "    pesos = [0.13]*5 + [0.02]*7 + [0.08]*5 + [0.01]*3\n",
    "    suma_pesos = sum(pesos)\n",
    "    pesos = [p/suma_pesos for p in pesos]\n",
    "    unidades = random.choices(opciones, weights=pesos, k=1)[0]\n",
    "    \n",
    "    ventas_simuladas.append([i, fecha, id_producto, pais, unidades])\n",
    "\n",
    "# Guardar como CSV\n",
    "df_ventas = pd.DataFrame(ventas_simuladas, columns=['id_venta', 'fecha_venta', 'id_producto', 'id_pais', 'unidades'])\n",
    "df_ventas.to_csv(\"Ventas_gunplas_simuladas.csv\", index=False)\n",
    "print(\"Archivo guardado como Ventas_gunplas_simuladas.csv\")\n"
   ]
  },
  {
   "cell_type": "markdown",
   "id": "692c4475",
   "metadata": {},
   "source": [
    "### **UTILIZACION DE HERRAMIENTA LLM**:\n",
    "\n",
    "Parte del código fue desarrollado con una herramenita LLM, sin embargo se ajustado manualmente para adaptarse a los objetivos del ejercicio.\n",
    "Mas adelante se comentará de otro scripts hechos para desarrollar un Dataset mas \"Realista\"\n"
   ]
  },
  {
   "cell_type": "markdown",
   "id": "2144c9cb",
   "metadata": {},
   "source": [
    "##  Ensuciado de Datos Simulado\n",
    "\n",
    "Para practicar técnicas de limpieza y validación de datos, se generó un conjunto de datos **ensuciados de forma intencional y aleatoria** a partir del dataset limpio de ventas simuladas.\n",
    "\n",
    "Este proceso de ensuciado incluye errores comunes que se encuentran en datos reales, tales como:\n",
    "\n",
    "- Fechas con formatos incorrectos o valores no válidos  \n",
    "- Identificadores (`id_producto`, `id_pais`) con valores inválidos o fuera de rango  \n",
    "- Valores numéricos expresados en texto (por ejemplo, `\"muchas\"`, `\"??\"`)  \n",
    "- Presencia de valores nulos distribuidos aleatoriamente  \n",
    "- Filas duplicadas para simular registros repetidos o erróneos  \n",
    "\n",
    "Este dataset ensuciado es ideal para poner en práctica procesos de **limpieza de datos, manejo de errores y validación**, preparando los datos para un análisis confiable y efectivo.\n",
    "\n",
    "### Script utilizado para el Ensuciado de los datos\n"
   ]
  },
  {
   "cell_type": "code",
   "execution_count": null,
   "id": "3af18989",
   "metadata": {},
   "outputs": [],
   "source": [
    "\n",
    "\n",
    "\n",
    "import pandas as pd\n",
    "import numpy as np\n",
    "import random\n",
    "\n",
    "# Cargar el archivo limpio\n",
    "df = pd.read_csv(\"Ventas_gunplas_simuladas.csv\")\n",
    "\n",
    "# Introducir valores nulos aleatorios\n",
    "for col in [\"id_venta\", \"Fecha_venta\", \"id_producto\", \"Id_Pais\", \"unidades\"]:\n",
    "    idx = df.sample(frac=0.01).index  # 1% de nulos por columna\n",
    "    df.loc[idx, col] = np.nan\n",
    "\n",
    "# Modificar fechas a un formato malo o texto\n",
    "malas_fechas = df.sample(frac=0.005).index\n",
    "df.loc[malas_fechas, \"Fecha_venta\"] = \"fecha desconocida\"\n",
    "\n",
    "# Introducir IDs inválidos\n",
    "df.loc[df.sample(frac=0.005).index, \"id_producto\"] = 99999  # ID que no existe\n",
    "df.loc[df.sample(frac=0.005).index, \"Id_Pais\"] = -1  # ID de país inválido\n",
    "\n",
    "# Unidades como texto\n",
    "df.loc[df.sample(frac=0.005).index, \"unidades\"] = \"muchas\"\n",
    "df.loc[df.sample(frac=0.005).index, \"unidades\"] = \"??\"\n",
    "\n",
    "# Duplicar algunas filas\n",
    "df = pd.concat([df, df.sample(frac=0.01)], ignore_index=True)\n",
    "\n",
    "# Guardar archivo sucio\n",
    "df.to_csv(\"Ventas_gunplas_sucias.csv\", index=False)\n",
    "print(\"Archivo sucio generado.\")\n"
   ]
  },
  {
   "cell_type": "markdown",
   "id": "da53f87a",
   "metadata": {},
   "source": [
    "### **Siguiente paso**\n",
    "Con este archivo listo para limpiear pasaremos al siguiente punto que es \"Limpiado del dataset\"\n",
    "\n",
    "Para acceder a el ve a la carpeta \"2. Limpieza con Pandas\""
   ]
  }
 ],
 "metadata": {
  "kernelspec": {
   "display_name": "base",
   "language": "python",
   "name": "python3"
  },
  "language_info": {
   "name": "python",
   "version": "3.12.7"
  }
 },
 "nbformat": 4,
 "nbformat_minor": 5
}
