{
 "cells": [
  {
   "cell_type": "markdown",
   "id": "d4d9dda1",
   "metadata": {},
   "source": [
    "# **Creacion de Datos**\n",
    "### *Autor: Mario Daniel Ortega Garcia*\n"
   ]
  },
  {
   "cell_type": "markdown",
   "id": "f761c3f1",
   "metadata": {},
   "source": [
    "## Generación de Datos Simulados\n",
    "\n",
    "Para la creación de datos se generó un conjunto de aproximadamente **100,000 registros de ventas** simuladas de model kits de **_Mobile Suit Gundam: Iron-Blooded Orphans_**, abreviado a partir de ahora como **IBO**.\n",
    "\n",
    "Estas ventas ficticias se distribuyen entre los años **2022, 2023 y 2024**, y fueron creadas con un script en **Python** que toma en cuenta:\n",
    "\n",
    "- Una lista de productos (Gunplas de IBO)\n",
    "- Una lista de países con su continente respectivo\n",
    "- Pesos asignados a cada continente para reflejar distribución desigual de ventas\n",
    "- Distribución no uniforme en las unidades vendidas\n",
    "- Fechas aleatorias dentro del rango mencionado\n",
    "\n",
    "---\n",
    "\n",
    "### Script utilizado para la creación de los datos\n"
   ]
  },
  {
   "cell_type": "code",
   "execution_count": null,
   "id": "58259a7e",
   "metadata": {},
   "outputs": [],
   "source": [
    "\n",
    "import pandas as pd\n",
    "import random\n",
    "from datetime import datetime, timedelta\n",
    "\n",
    "# Cargar archivos\n",
    "productos = pd.read_csv(\"IBO_Gunplas.csv\")\n",
    "paises = pd.read_csv(\"Paises con continene.csv\")\n",
    "\n",
    "# Obtener listas\n",
    "lista_productos = productos['id_nuevo'].dropna().unique().tolist()\n",
    "paises = paises.dropna(subset=[\"id_pais\", \"continente\"])\n",
    "lista_paises = paises[['id_pais', 'continente']].copy()\n",
    "\n",
    "# Pesos por continente\n",
    "pesos_continente = {\n",
    "    \"Asia\": 0.4,\n",
    "    \"América\": 0.25,\n",
    "    \"Europa\": 0.2,\n",
    "    \"África\": 0.1,\n",
    "    \"Caribe\": 0.05\n",
    "}\n",
    "lista_paises.loc[:, 'peso'] = lista_paises['continente'].map(pesos_continente)\n",
    "lista_paises = lista_paises.dropna(subset=['peso']).reset_index(drop=True)\n",
    "\n",
    "# Función para generar fechas aleatorias\n",
    "def fecha_aleatoria():\n",
    "    inicio = datetime(2022, 1, 1)\n",
    "    fin = datetime(2024, 12, 31)\n",
    "    return inicio + timedelta(days=random.randint(0, (fin - inicio).days))\n",
    "\n",
    "# Generar ventas simuladas\n",
    "num_ventas = 100_000\n",
    "ventas_simuladas = []\n",
    "\n",
    "for i in range(1, num_ventas + 1):\n",
    "    fecha = fecha_aleatoria().strftime('%Y-%m-%d')\n",
    "    id_producto = random.choice(lista_productos)\n",
    "    pais = lista_paises.sample(weights=lista_paises['peso']).iloc[0]['id_pais']\n",
    "\n",
    "    opciones = list(range(1, 21))\n",
    "    pesos = [0.13]*5 + [0.02]*7 + [0.08]*5 + [0.01]*3\n",
    "    suma_pesos = sum(pesos)\n",
    "    pesos = [p/suma_pesos for p in pesos]\n",
    "    unidades = random.choices(opciones, weights=pesos, k=1)[0]\n",
    "    \n",
    "    ventas_simuladas.append([i, fecha, id_producto, pais, unidades])\n",
    "\n",
    "# Guardar como CSV\n",
    "df_ventas = pd.DataFrame(ventas_simuladas, columns=['id_venta', 'fecha_venta', 'id_producto', 'id_pais', 'unidades'])\n",
    "df_ventas.to_csv(\"Ventas_gunplas_simuladas.csv\", index=False)\n",
    "print(\"Archivo guardado como Ventas_gunplas_simuladas.csv\")\n"
   ]
  },
  {
   "cell_type": "markdown",
   "id": "692c4475",
   "metadata": {},
   "source": [
    "### **UTILIZACION DE HERRAMIENTA LLM**:\n",
    "\n",
    "Parte del código fue desarrollado con una herramenita LLM, sin embargo se ajustado manualmente para adaptarse a los objetivos del ejercicio.\n",
    "Mas adelante se comentará de otro scripts hechos para desarrollar un Dataset mas \"Realista\"\n"
   ]
  },
  {
   "cell_type": "markdown",
   "id": "2144c9cb",
   "metadata": {},
   "source": [
    "##  Ensuciado de Datos Simulado\n",
    "\n",
    "Para practicar técnicas de limpieza y validación de datos, se generó un conjunto de datos **ensuciados de forma intencional y aleatoria** a partir del dataset limpio de ventas simuladas.\n",
    "\n",
    "Este proceso de ensuciado incluye errores comunes que se encuentran en datos reales, tales como:\n",
    "\n",
    "- Fechas con formatos incorrectos o valores no válidos  \n",
    "- Identificadores (`id_producto`, `id_pais`) con valores inválidos o fuera de rango  \n",
    "- Valores numéricos expresados en texto (por ejemplo, `\"muchas\"`, `\"??\"`)  \n",
    "- Presencia de valores nulos distribuidos aleatoriamente  \n",
    "- Filas duplicadas para simular registros repetidos o erróneos  \n",
    "\n",
    "Este dataset ensuciado es ideal para poner en práctica procesos de **limpieza de datos, manejo de errores y validación**, preparando los datos para un análisis confiable y efectivo.\n",
    "\n",
    "### Script utilizado para el Ensuciado de los datos\n"
   ]
  },
  {
   "cell_type": "code",
   "execution_count": 4,
   "id": "3af18989",
   "metadata": {},
   "outputs": [
    {
     "ename": "FileNotFoundError",
     "evalue": "[Errno 2] No such file or directory: 'Ventas_gunplas_simuladas.csv'",
     "output_type": "error",
     "traceback": [
      "\u001b[1;31m---------------------------------------------------------------------------\u001b[0m",
      "\u001b[1;31mFileNotFoundError\u001b[0m                         Traceback (most recent call last)",
      "Cell \u001b[1;32mIn[4], line 6\u001b[0m\n\u001b[0;32m      2\u001b[0m \u001b[38;5;28;01mimport\u001b[39;00m \u001b[38;5;21;01mnumpy\u001b[39;00m \u001b[38;5;28;01mas\u001b[39;00m \u001b[38;5;21;01mnp\u001b[39;00m\n\u001b[0;32m      5\u001b[0m \u001b[38;5;66;03m# Cargar el archivo limpio\u001b[39;00m\n\u001b[1;32m----> 6\u001b[0m df \u001b[38;5;241m=\u001b[39m pd\u001b[38;5;241m.\u001b[39mread_csv(\u001b[38;5;124m\"\u001b[39m\u001b[38;5;124mVentas_gunplas_simuladas.csv\u001b[39m\u001b[38;5;124m\"\u001b[39m)\n\u001b[0;32m      8\u001b[0m \u001b[38;5;66;03m# Introducir valores nulos aleatorios\u001b[39;00m\n\u001b[0;32m      9\u001b[0m \u001b[38;5;28;01mfor\u001b[39;00m col \u001b[38;5;129;01min\u001b[39;00m [\u001b[38;5;124m\"\u001b[39m\u001b[38;5;124mid_venta\u001b[39m\u001b[38;5;124m\"\u001b[39m, \u001b[38;5;124m\"\u001b[39m\u001b[38;5;124mFecha_venta\u001b[39m\u001b[38;5;124m\"\u001b[39m, \u001b[38;5;124m\"\u001b[39m\u001b[38;5;124mid_producto\u001b[39m\u001b[38;5;124m\"\u001b[39m, \u001b[38;5;124m\"\u001b[39m\u001b[38;5;124mId_Pais\u001b[39m\u001b[38;5;124m\"\u001b[39m, \u001b[38;5;124m\"\u001b[39m\u001b[38;5;124munidades\u001b[39m\u001b[38;5;124m\"\u001b[39m]:\n",
      "File \u001b[1;32mc:\\Users\\mario\\anaconda3\\Lib\\site-packages\\pandas\\io\\parsers\\readers.py:1026\u001b[0m, in \u001b[0;36mread_csv\u001b[1;34m(filepath_or_buffer, sep, delimiter, header, names, index_col, usecols, dtype, engine, converters, true_values, false_values, skipinitialspace, skiprows, skipfooter, nrows, na_values, keep_default_na, na_filter, verbose, skip_blank_lines, parse_dates, infer_datetime_format, keep_date_col, date_parser, date_format, dayfirst, cache_dates, iterator, chunksize, compression, thousands, decimal, lineterminator, quotechar, quoting, doublequote, escapechar, comment, encoding, encoding_errors, dialect, on_bad_lines, delim_whitespace, low_memory, memory_map, float_precision, storage_options, dtype_backend)\u001b[0m\n\u001b[0;32m   1013\u001b[0m kwds_defaults \u001b[38;5;241m=\u001b[39m _refine_defaults_read(\n\u001b[0;32m   1014\u001b[0m     dialect,\n\u001b[0;32m   1015\u001b[0m     delimiter,\n\u001b[1;32m   (...)\u001b[0m\n\u001b[0;32m   1022\u001b[0m     dtype_backend\u001b[38;5;241m=\u001b[39mdtype_backend,\n\u001b[0;32m   1023\u001b[0m )\n\u001b[0;32m   1024\u001b[0m kwds\u001b[38;5;241m.\u001b[39mupdate(kwds_defaults)\n\u001b[1;32m-> 1026\u001b[0m \u001b[38;5;28;01mreturn\u001b[39;00m _read(filepath_or_buffer, kwds)\n",
      "File \u001b[1;32mc:\\Users\\mario\\anaconda3\\Lib\\site-packages\\pandas\\io\\parsers\\readers.py:620\u001b[0m, in \u001b[0;36m_read\u001b[1;34m(filepath_or_buffer, kwds)\u001b[0m\n\u001b[0;32m    617\u001b[0m _validate_names(kwds\u001b[38;5;241m.\u001b[39mget(\u001b[38;5;124m\"\u001b[39m\u001b[38;5;124mnames\u001b[39m\u001b[38;5;124m\"\u001b[39m, \u001b[38;5;28;01mNone\u001b[39;00m))\n\u001b[0;32m    619\u001b[0m \u001b[38;5;66;03m# Create the parser.\u001b[39;00m\n\u001b[1;32m--> 620\u001b[0m parser \u001b[38;5;241m=\u001b[39m TextFileReader(filepath_or_buffer, \u001b[38;5;241m*\u001b[39m\u001b[38;5;241m*\u001b[39mkwds)\n\u001b[0;32m    622\u001b[0m \u001b[38;5;28;01mif\u001b[39;00m chunksize \u001b[38;5;129;01mor\u001b[39;00m iterator:\n\u001b[0;32m    623\u001b[0m     \u001b[38;5;28;01mreturn\u001b[39;00m parser\n",
      "File \u001b[1;32mc:\\Users\\mario\\anaconda3\\Lib\\site-packages\\pandas\\io\\parsers\\readers.py:1620\u001b[0m, in \u001b[0;36mTextFileReader.__init__\u001b[1;34m(self, f, engine, **kwds)\u001b[0m\n\u001b[0;32m   1617\u001b[0m     \u001b[38;5;28mself\u001b[39m\u001b[38;5;241m.\u001b[39moptions[\u001b[38;5;124m\"\u001b[39m\u001b[38;5;124mhas_index_names\u001b[39m\u001b[38;5;124m\"\u001b[39m] \u001b[38;5;241m=\u001b[39m kwds[\u001b[38;5;124m\"\u001b[39m\u001b[38;5;124mhas_index_names\u001b[39m\u001b[38;5;124m\"\u001b[39m]\n\u001b[0;32m   1619\u001b[0m \u001b[38;5;28mself\u001b[39m\u001b[38;5;241m.\u001b[39mhandles: IOHandles \u001b[38;5;241m|\u001b[39m \u001b[38;5;28;01mNone\u001b[39;00m \u001b[38;5;241m=\u001b[39m \u001b[38;5;28;01mNone\u001b[39;00m\n\u001b[1;32m-> 1620\u001b[0m \u001b[38;5;28mself\u001b[39m\u001b[38;5;241m.\u001b[39m_engine \u001b[38;5;241m=\u001b[39m \u001b[38;5;28mself\u001b[39m\u001b[38;5;241m.\u001b[39m_make_engine(f, \u001b[38;5;28mself\u001b[39m\u001b[38;5;241m.\u001b[39mengine)\n",
      "File \u001b[1;32mc:\\Users\\mario\\anaconda3\\Lib\\site-packages\\pandas\\io\\parsers\\readers.py:1880\u001b[0m, in \u001b[0;36mTextFileReader._make_engine\u001b[1;34m(self, f, engine)\u001b[0m\n\u001b[0;32m   1878\u001b[0m     \u001b[38;5;28;01mif\u001b[39;00m \u001b[38;5;124m\"\u001b[39m\u001b[38;5;124mb\u001b[39m\u001b[38;5;124m\"\u001b[39m \u001b[38;5;129;01mnot\u001b[39;00m \u001b[38;5;129;01min\u001b[39;00m mode:\n\u001b[0;32m   1879\u001b[0m         mode \u001b[38;5;241m+\u001b[39m\u001b[38;5;241m=\u001b[39m \u001b[38;5;124m\"\u001b[39m\u001b[38;5;124mb\u001b[39m\u001b[38;5;124m\"\u001b[39m\n\u001b[1;32m-> 1880\u001b[0m \u001b[38;5;28mself\u001b[39m\u001b[38;5;241m.\u001b[39mhandles \u001b[38;5;241m=\u001b[39m get_handle(\n\u001b[0;32m   1881\u001b[0m     f,\n\u001b[0;32m   1882\u001b[0m     mode,\n\u001b[0;32m   1883\u001b[0m     encoding\u001b[38;5;241m=\u001b[39m\u001b[38;5;28mself\u001b[39m\u001b[38;5;241m.\u001b[39moptions\u001b[38;5;241m.\u001b[39mget(\u001b[38;5;124m\"\u001b[39m\u001b[38;5;124mencoding\u001b[39m\u001b[38;5;124m\"\u001b[39m, \u001b[38;5;28;01mNone\u001b[39;00m),\n\u001b[0;32m   1884\u001b[0m     compression\u001b[38;5;241m=\u001b[39m\u001b[38;5;28mself\u001b[39m\u001b[38;5;241m.\u001b[39moptions\u001b[38;5;241m.\u001b[39mget(\u001b[38;5;124m\"\u001b[39m\u001b[38;5;124mcompression\u001b[39m\u001b[38;5;124m\"\u001b[39m, \u001b[38;5;28;01mNone\u001b[39;00m),\n\u001b[0;32m   1885\u001b[0m     memory_map\u001b[38;5;241m=\u001b[39m\u001b[38;5;28mself\u001b[39m\u001b[38;5;241m.\u001b[39moptions\u001b[38;5;241m.\u001b[39mget(\u001b[38;5;124m\"\u001b[39m\u001b[38;5;124mmemory_map\u001b[39m\u001b[38;5;124m\"\u001b[39m, \u001b[38;5;28;01mFalse\u001b[39;00m),\n\u001b[0;32m   1886\u001b[0m     is_text\u001b[38;5;241m=\u001b[39mis_text,\n\u001b[0;32m   1887\u001b[0m     errors\u001b[38;5;241m=\u001b[39m\u001b[38;5;28mself\u001b[39m\u001b[38;5;241m.\u001b[39moptions\u001b[38;5;241m.\u001b[39mget(\u001b[38;5;124m\"\u001b[39m\u001b[38;5;124mencoding_errors\u001b[39m\u001b[38;5;124m\"\u001b[39m, \u001b[38;5;124m\"\u001b[39m\u001b[38;5;124mstrict\u001b[39m\u001b[38;5;124m\"\u001b[39m),\n\u001b[0;32m   1888\u001b[0m     storage_options\u001b[38;5;241m=\u001b[39m\u001b[38;5;28mself\u001b[39m\u001b[38;5;241m.\u001b[39moptions\u001b[38;5;241m.\u001b[39mget(\u001b[38;5;124m\"\u001b[39m\u001b[38;5;124mstorage_options\u001b[39m\u001b[38;5;124m\"\u001b[39m, \u001b[38;5;28;01mNone\u001b[39;00m),\n\u001b[0;32m   1889\u001b[0m )\n\u001b[0;32m   1890\u001b[0m \u001b[38;5;28;01massert\u001b[39;00m \u001b[38;5;28mself\u001b[39m\u001b[38;5;241m.\u001b[39mhandles \u001b[38;5;129;01mis\u001b[39;00m \u001b[38;5;129;01mnot\u001b[39;00m \u001b[38;5;28;01mNone\u001b[39;00m\n\u001b[0;32m   1891\u001b[0m f \u001b[38;5;241m=\u001b[39m \u001b[38;5;28mself\u001b[39m\u001b[38;5;241m.\u001b[39mhandles\u001b[38;5;241m.\u001b[39mhandle\n",
      "File \u001b[1;32mc:\\Users\\mario\\anaconda3\\Lib\\site-packages\\pandas\\io\\common.py:873\u001b[0m, in \u001b[0;36mget_handle\u001b[1;34m(path_or_buf, mode, encoding, compression, memory_map, is_text, errors, storage_options)\u001b[0m\n\u001b[0;32m    868\u001b[0m \u001b[38;5;28;01melif\u001b[39;00m \u001b[38;5;28misinstance\u001b[39m(handle, \u001b[38;5;28mstr\u001b[39m):\n\u001b[0;32m    869\u001b[0m     \u001b[38;5;66;03m# Check whether the filename is to be opened in binary mode.\u001b[39;00m\n\u001b[0;32m    870\u001b[0m     \u001b[38;5;66;03m# Binary mode does not support 'encoding' and 'newline'.\u001b[39;00m\n\u001b[0;32m    871\u001b[0m     \u001b[38;5;28;01mif\u001b[39;00m ioargs\u001b[38;5;241m.\u001b[39mencoding \u001b[38;5;129;01mand\u001b[39;00m \u001b[38;5;124m\"\u001b[39m\u001b[38;5;124mb\u001b[39m\u001b[38;5;124m\"\u001b[39m \u001b[38;5;129;01mnot\u001b[39;00m \u001b[38;5;129;01min\u001b[39;00m ioargs\u001b[38;5;241m.\u001b[39mmode:\n\u001b[0;32m    872\u001b[0m         \u001b[38;5;66;03m# Encoding\u001b[39;00m\n\u001b[1;32m--> 873\u001b[0m         handle \u001b[38;5;241m=\u001b[39m \u001b[38;5;28mopen\u001b[39m(\n\u001b[0;32m    874\u001b[0m             handle,\n\u001b[0;32m    875\u001b[0m             ioargs\u001b[38;5;241m.\u001b[39mmode,\n\u001b[0;32m    876\u001b[0m             encoding\u001b[38;5;241m=\u001b[39mioargs\u001b[38;5;241m.\u001b[39mencoding,\n\u001b[0;32m    877\u001b[0m             errors\u001b[38;5;241m=\u001b[39merrors,\n\u001b[0;32m    878\u001b[0m             newline\u001b[38;5;241m=\u001b[39m\u001b[38;5;124m\"\u001b[39m\u001b[38;5;124m\"\u001b[39m,\n\u001b[0;32m    879\u001b[0m         )\n\u001b[0;32m    880\u001b[0m     \u001b[38;5;28;01melse\u001b[39;00m:\n\u001b[0;32m    881\u001b[0m         \u001b[38;5;66;03m# Binary mode\u001b[39;00m\n\u001b[0;32m    882\u001b[0m         handle \u001b[38;5;241m=\u001b[39m \u001b[38;5;28mopen\u001b[39m(handle, ioargs\u001b[38;5;241m.\u001b[39mmode)\n",
      "\u001b[1;31mFileNotFoundError\u001b[0m: [Errno 2] No such file or directory: 'Ventas_gunplas_simuladas.csv'"
     ]
    }
   ],
   "source": [
    "\n",
    "import pandas as pd\n",
    "import numpy as np\n",
    "\n",
    "\n",
    "# Cargar el archivo limpio\n",
    "df = pd.read_csv(\"Ventas_gunplas_simuladas.csv\")\n",
    "\n",
    "# Introducir valores nulos aleatorios\n",
    "for col in [\"id_venta\", \"Fecha_venta\", \"id_producto\", \"Id_Pais\", \"unidades\"]:\n",
    "    idx = df.sample(frac=0.01).index  # 1% de nulos por columna\n",
    "    df.loc[idx, col] = np.nan\n",
    "\n",
    "# Modificar fechas a un formato malo o texto\n",
    "malas_fechas = df.sample(frac=0.005).index\n",
    "df.loc[malas_fechas, \"Fecha_venta\"] = \"fecha desconocida\"\n",
    "\n",
    "# Introducir IDs inválidos\n",
    "df.loc[df.sample(frac=0.005).index, \"id_producto\"] = 99999  # ID que no existe\n",
    "df.loc[df.sample(frac=0.005).index, \"Id_Pais\"] = -1  # ID de país inválido\n",
    "\n",
    "# Unidades como texto\n",
    "df.loc[df.sample(frac=0.005).index, \"unidades\"] = \"muchas\"\n",
    "df.loc[df.sample(frac=0.005).index, \"unidades\"] = \"??\"\n",
    "\n",
    "# Duplicar algunas filas\n",
    "df = pd.concat([df, df.sample(frac=0.01)], ignore_index=True)\n",
    "\n",
    "# Guardar archivo sucio\n",
    "df.to_csv(\"Ventas_gunplas_sucias.csv\", index=False)\n",
    "print(\"Archivo sucio generado.\")\n"
   ]
  },
  {
   "cell_type": "markdown",
   "id": "da53f87a",
   "metadata": {},
   "source": [
    "### **Siguiente paso**\n",
    "Con este archivo listo para limpiear pasaremos al siguiente punto que es \"Limpiado del dataset\"\n",
    "\n",
    "Para acceder a el ve a la carpeta \"2. Limpieza con Pandas\""
   ]
  }
 ],
 "metadata": {
  "kernelspec": {
   "display_name": "base",
   "language": "python",
   "name": "python3"
  },
  "language_info": {
   "codemirror_mode": {
    "name": "ipython",
    "version": 3
   },
   "file_extension": ".py",
   "mimetype": "text/x-python",
   "name": "python",
   "nbconvert_exporter": "python",
   "pygments_lexer": "ipython3",
   "version": "3.12.7"
  }
 },
 "nbformat": 4,
 "nbformat_minor": 5
}
